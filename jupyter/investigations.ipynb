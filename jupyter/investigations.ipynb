{
 "cells": [
  {
   "cell_type": "code",
   "execution_count": null,
   "metadata": {},
   "outputs": [],
   "source": [
    "import import_ipynb\n",
    "from util import *\n",
    "\n",
    "def plot_box(data_frame, x, y, x_label, y_label):\n",
    "    \"\"\"\n",
    "    Given a data frame, plot a box plot where the x values are discreet\n",
    "    :param data_frame: The data frame to use\n",
    "    :param x: The x-axis dataframe column (discreet)\n",
    "    :param y: The y-axis dataframe column\n",
    "    :param x_label: The x-axis label\n",
    "    :param y_label: The y-axis label\n",
    "    \"\"\"\n",
    "\n",
    "    inter_df = pd.DataFrame()\n",
    "    inter_df[x] = data_frame[x]\n",
    "    inter_df[y] = data_frame[y]\n",
    "\n",
    "    inter_df.dropna()\n",
    "\n",
    "    plot_df = pd.DataFrame()\n",
    "\n",
    "    num_rows = row_count(inter_df)\n",
    "\n",
    "    from_val = int(min(inter_df[x]))\n",
    "    to_val = int(max(inter_df[x]))\n",
    "    for i in range(from_val, to_val + 1):\n",
    "        plot_df[str(i)] = pad(inter_df[inter_df[x] == i][y], num_rows)\n",
    "\n",
    "    standardize_plot_fonts()\n",
    "\n",
    "    plot_to_show = plot_df.plot.box()\n",
    "\n",
    "    plot_to_show.set_title(y_label + ' vs ' + x_label)\n",
    "    plot_to_show.set_xlabel(x_label)\n",
    "    plot_to_show.set_ylabel(y_label)\n",
    "\n",
    "    plt.show()"
   ]
  }
 ],
 "metadata": {
  "kernelspec": {
   "display_name": "Python 3",
   "language": "python",
   "name": "python3"
  },
  "language_info": {
   "codemirror_mode": {
    "name": "ipython",
    "version": 3
   },
   "file_extension": ".py",
   "mimetype": "text/x-python",
   "name": "python",
   "nbconvert_exporter": "python",
   "pygments_lexer": "ipython3",
   "version": "3.7.3"
  }
 },
 "nbformat": 4,
 "nbformat_minor": 2
}
